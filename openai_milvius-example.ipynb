{
 "cells": [
  {
   "cell_type": "code",
   "execution_count": null,
   "id": "77af4d42-c7f5-4f46-99ca-282b1e05696e",
   "metadata": {},
   "outputs": [
    {
     "name": "stdout",
     "output_type": "stream",
     "text": [
      "Requirement already satisfied: pymilvus in /usr/local/lib/python3.8/dist-packages (2.3.6)\n",
      "Requirement already satisfied: openai==0.28 in /usr/local/lib/python3.8/dist-packages (0.28.0)\n",
      "Requirement already satisfied: protobuf in /usr/local/lib/python3.8/dist-packages (4.25.3)\n",
      "Requirement already satisfied: requests>=2.20 in /usr/local/lib/python3.8/dist-packages (from openai==0.28) (2.31.0)\n",
      "Requirement already satisfied: tqdm in /usr/local/lib/python3.8/dist-packages (from openai==0.28) (4.66.1)\n",
      "Requirement already satisfied: aiohttp in /usr/local/lib/python3.8/dist-packages (from openai==0.28) (3.9.3)\n",
      "Requirement already satisfied: setuptools>=67 in /usr/local/lib/python3.8/dist-packages (from pymilvus) (69.1.0)\n",
      "Requirement already satisfied: grpcio<=1.60.0,>=1.49.1 in /usr/local/lib/python3.8/dist-packages (from pymilvus) (1.60.0)\n",
      "Requirement already satisfied: environs<=9.5.0 in /usr/local/lib/python3.8/dist-packages (from pymilvus) (9.5.0)\n",
      "Requirement already satisfied: ujson>=2.0.0 in /usr/local/lib/python3.8/dist-packages (from pymilvus) (5.9.0)\n",
      "Requirement already satisfied: pandas>=1.2.4 in /usr/local/lib/python3.8/dist-packages (from pymilvus) (1.5.3)\n",
      "Requirement already satisfied: minio>=7.0.0 in /usr/local/lib/python3.8/dist-packages (from pymilvus) (7.2.4)\n",
      "Requirement already satisfied: pyarrow>=12.0.0 in /usr/local/lib/python3.8/dist-packages (from pymilvus) (15.0.0)\n",
      "Requirement already satisfied: numpy<1.25.0 in /usr/local/lib/python3.8/dist-packages (from pymilvus) (1.24.4)\n",
      "Requirement already satisfied: marshmallow>=3.0.0 in /usr/local/lib/python3.8/dist-packages (from environs<=9.5.0->pymilvus) (3.20.2)\n",
      "Requirement already satisfied: python-dotenv in /usr/local/lib/python3.8/dist-packages (from environs<=9.5.0->pymilvus) (1.0.1)\n",
      "Requirement already satisfied: certifi in /usr/local/lib/python3.8/dist-packages (from minio>=7.0.0->pymilvus) (2023.11.17)\n",
      "Requirement already satisfied: urllib3 in /usr/local/lib/python3.8/dist-packages (from minio>=7.0.0->pymilvus) (2.1.0)\n",
      "Requirement already satisfied: argon2-cffi in /usr/local/lib/python3.8/dist-packages (from minio>=7.0.0->pymilvus) (23.1.0)\n",
      "Requirement already satisfied: pycryptodome in /usr/local/lib/python3.8/dist-packages (from minio>=7.0.0->pymilvus) (3.20.0)\n",
      "Requirement already satisfied: typing-extensions in /usr/local/lib/python3.8/dist-packages (from minio>=7.0.0->pymilvus) (4.9.0)\n",
      "Requirement already satisfied: python-dateutil>=2.8.1 in /usr/local/lib/python3.8/dist-packages (from pandas>=1.2.4->pymilvus) (2.8.2)\n",
      "Requirement already satisfied: pytz>=2020.1 in /usr/local/lib/python3.8/dist-packages (from pandas>=1.2.4->pymilvus) (2023.3.post1)\n",
      "Requirement already satisfied: charset-normalizer<4,>=2 in /usr/local/lib/python3.8/dist-packages (from requests>=2.20->openai==0.28) (3.3.2)\n",
      "Requirement already satisfied: idna<4,>=2.5 in /usr/local/lib/python3.8/dist-packages (from requests>=2.20->openai==0.28) (3.6)\n",
      "Requirement already satisfied: aiosignal>=1.1.2 in /usr/local/lib/python3.8/dist-packages (from aiohttp->openai==0.28) (1.3.1)\n",
      "Requirement already satisfied: attrs>=17.3.0 in /usr/local/lib/python3.8/dist-packages (from aiohttp->openai==0.28) (23.2.0)\n",
      "Requirement already satisfied: frozenlist>=1.1.1 in /usr/local/lib/python3.8/dist-packages (from aiohttp->openai==0.28) (1.4.1)\n",
      "Requirement already satisfied: multidict<7.0,>=4.5 in /usr/local/lib/python3.8/dist-packages (from aiohttp->openai==0.28) (6.0.5)\n",
      "Requirement already satisfied: yarl<2.0,>=1.0 in /usr/local/lib/python3.8/dist-packages (from aiohttp->openai==0.28) (1.9.4)\n",
      "Requirement already satisfied: async-timeout<5.0,>=4.0 in /usr/local/lib/python3.8/dist-packages (from aiohttp->openai==0.28) (4.0.3)\n",
      "Requirement already satisfied: packaging>=17.0 in /usr/local/lib/python3.8/dist-packages (from marshmallow>=3.0.0->environs<=9.5.0->pymilvus) (23.2)\n",
      "Requirement already satisfied: six>=1.5 in /usr/local/lib/python3.8/dist-packages (from python-dateutil>=2.8.1->pandas>=1.2.4->pymilvus) (1.16.0)\n",
      "Requirement already satisfied: argon2-cffi-bindings in /usr/local/lib/python3.8/dist-packages (from argon2-cffi->minio>=7.0.0->pymilvus) (21.2.0)\n",
      "Requirement already satisfied: cffi>=1.0.1 in /usr/local/lib/python3.8/dist-packages (from argon2-cffi-bindings->argon2-cffi->minio>=7.0.0->pymilvus) (1.16.0)\n",
      "Requirement already satisfied: pycparser in /usr/local/lib/python3.8/dist-packages (from cffi>=1.0.1->argon2-cffi-bindings->argon2-cffi->minio>=7.0.0->pymilvus) (2.21)\n",
      "\u001b[33mWARNING: Running pip as the 'root' user can result in broken permissions and conflicting behaviour with the system package manager. It is recommended to use a virtual environment instead: https://pip.pypa.io/warnings/venv\u001b[0m\u001b[33m\n",
      "\u001b[0m\n",
      "\u001b[1m[\u001b[0m\u001b[34;49mnotice\u001b[0m\u001b[1;39;49m]\u001b[0m\u001b[39;49m A new release of pip is available: \u001b[0m\u001b[31;49m23.3.2\u001b[0m\u001b[39;49m -> \u001b[0m\u001b[32;49m24.0\u001b[0m\n",
      "\u001b[1m[\u001b[0m\u001b[34;49mnotice\u001b[0m\u001b[1;39;49m]\u001b[0m\u001b[39;49m To update, run: \u001b[0m\u001b[32;49mpython3 -m pip install --upgrade pip\u001b[0m\n"
     ]
    }
   ],
   "source": [
    "! pip install pymilvus openai==0.28 protobuf\n",
    "\n",
    "import os\n",
    "import time\n",
    "import numpy as np\n",
    "import pandas as pd \n",
    "from pymilvus import Collection, FieldSchema, CollectionSchema, DataType, connections, utility\n",
    "from getpass import getpass\n",
    "from openai import OpenAI"
   ]
  },
  {
   "cell_type": "markdown",
   "id": "37b93eb2-9bcb-47bd-837e-6cc39cb2e84a",
   "metadata": {},
   "source": [
    "### Spotify songs dataset from Kaggle\n",
    "\n",
    "The dataset is available for download in the below URL.\n",
    "\n",
    "https://www.kaggle.com/datasets/maharshipandya/-spotify-tracks-dataset\n",
    "\n",
    "The dataset contains ~114000 song information fom various popular artists."
   ]
  },
  {
   "cell_type": "code",
   "execution_count": 4,
   "id": "a11a296c-46aa-4424-b82a-7e5eded7ccea",
   "metadata": {},
   "outputs": [
    {
     "data": {
      "text/plain": [
       "(114000, 20)"
      ]
     },
     "execution_count": 4,
     "metadata": {},
     "output_type": "execute_result"
    }
   ],
   "source": [
    "## Read the data and filter out the un-necessary columns\n",
    "songs_dataset = pd.read_csv('spotify.zip', compression='zip', header=0)\n",
    "songs_dataset = songs_dataset.loc[:, ~songs_dataset.columns.str.contains('^Unnamed')]\n",
    "songs_dataset.shape"
   ]
  },
  {
   "cell_type": "code",
   "execution_count": 11,
   "id": "0aa72a1b-1603-4bf4-89bb-b00824f83d60",
   "metadata": {},
   "outputs": [
    {
     "name": "stdout",
     "output_type": "stream",
     "text": [
      "                         album_name       track_name  popularity\n",
      "3006  Hybrid Theory (Bonus Edition)       In the End          85\n",
      "3007                        Meteora             Numb          83\n",
      "3262  Hybrid Theory (Bonus Edition)  One Step Closer          78\n",
      "3263                        Meteora            Faint          77\n",
      "3311  Hybrid Theory (Bonus Edition)         Crawling          76\n",
      "(154, 3)\n"
     ]
    }
   ],
   "source": [
    "## Filter the data for Linkin Park and choose only the album name, track name and popularity\n",
    "## columns for further processing\n",
    "\n",
    "lp_dataset = songs_dataset[songs_dataset['artists'].str.contains(\"Linkin Park\", na=False)]\n",
    "lp_dataset = lp_dataset[['album_name', 'track_name', 'popularity']]\n",
    "lp_dataset = lp_dataset.drop_duplicates(subset=['album_name', 'track_name'])\n",
    "lp_dataset = lp_dataset.sort_values('popularity', ascending=False)\n",
    "# lp_dataset = lp_dataset[:10]\n",
    "print(lp_dataset.head())\n",
    "print(lp_dataset.shape)"
   ]
  },
  {
   "cell_type": "markdown",
   "id": "2e143107-d3cd-4127-a14d-e901a0331d7b",
   "metadata": {},
   "source": [
    "### Configurations\n",
    "\n",
    "Before we proceed, we need an Open AI account and get the secret API key for the account. Instructions to find the secret API key is available in the below URL.\n",
    "\n",
    "https://help.openai.com/en/articles/4936850-where-do-i-find-my-secret-api-key\n",
    "\n",
    "Open AI limits upto 200 API requests per day for free tier. So be careful wth the number of API calls. The COUNT variable can be used to limit the API calls.\n",
    "\n",
    "We will use the text-embedding-ada-002 model from OpenAI to generate the embeddings"
   ]
  },
  {
   "cell_type": "code",
   "execution_count": 12,
   "id": "d15739b3-3dce-4d31-ab51-fa293f17a8bd",
   "metadata": {},
   "outputs": [
    {
     "name": "stdin",
     "output_type": "stream",
     "text": [
      "OpenAI API Key:  ········\n"
     ]
    }
   ],
   "source": [
    "# Configs\n",
    "COLLECTION_NAME = 'linkin_park'  # Collection name in Milvus\n",
    "DIMENSION = 1536  # Embeddings size, depends on the embedding model.\n",
    "COUNT = 1000  # Number of titles to embed and insert.\n",
    "OPENAI_ENGINE = 'text-embedding-ada-002'  # Embedding model to be used\n",
    "openai.api_key = getpass('OpenAI API Key: ')  # Use your own Open AI API Key here"
   ]
  },
  {
   "cell_type": "code",
   "execution_count": 50,
   "id": "d63d50c3-a914-450a-8f0d-370d88338d42",
   "metadata": {},
   "outputs": [
    {
     "name": "stdin",
     "output_type": "stream",
     "text": [
      "Milvus Password:  ········\n"
     ]
    }
   ],
   "source": [
    "# Create the connection to Milvus. \n",
    "\n",
    "connections.connect(\n",
    "  alias=\"default\",\n",
    "  host='192.168.0.157',\n",
    "  port='19530',\n",
    "  user='root',\n",
    "  password=getpass('Milvus Password: ')\n",
    ")"
   ]
  },
  {
   "cell_type": "code",
   "execution_count": 51,
   "id": "6b0c1c4b-49da-480a-a734-290458431dec",
   "metadata": {},
   "outputs": [
    {
     "data": {
      "text/plain": [
       "Status(code=0, message=)"
      ]
     },
     "execution_count": 51,
     "metadata": {},
     "output_type": "execute_result"
    }
   ],
   "source": [
    "# Remove collection if it already exists\n",
    "if utility.has_collection(COLLECTION_NAME):\n",
    "    utility.drop_collection(COLLECTION_NAME)\n",
    "\n",
    "# Create collection which includes the id, title, and embedding.\n",
    "track_name_field = FieldSchema(name='track_name', dtype=DataType.VARCHAR, max_length=1024,is_primary=True, auto_id=False)\n",
    "album_name_field = FieldSchema(name='album_name', dtype=DataType.VARCHAR, max_length=1024)\n",
    "popularity_field = FieldSchema(name='popularity', dtype=DataType.INT64)\n",
    "embedding_field = FieldSchema(name='embedding', dtype=DataType.FLOAT_VECTOR, description='Embedding vectors', dim=DIMENSION)\n",
    "\n",
    "fields = [track_name_field, album_name_field, popularity_field, embedding_field]\n",
    "schema = CollectionSchema(fields=fields, description='Linkin Park Songs collection')\n",
    "collection = Collection(name=COLLECTION_NAME, schema=schema)\n",
    "\n",
    "# Create an index for the collection.\n",
    "\n",
    "index_params = {\n",
    "    'index_type': 'IVF_FLAT',\n",
    "    'metric_type': 'L2',\n",
    "    'params': {'nlist': 64}\n",
    "}\n",
    "collection.create_index(field_name=\"embedding\", index_params=index_params)"
   ]
  },
  {
   "cell_type": "code",
   "execution_count": 55,
   "id": "1453020a-af58-4aa4-84e7-fa629b599961",
   "metadata": {},
   "outputs": [],
   "source": [
    "# Get the embeddings for the text using OpenAI\n",
    "#def embed(text):\n",
    "#    return openai.Embedding.create(\n",
    "#        input=text, \n",
    "#        engine=OPENAI_ENGINE)[\"data\"][0][\"embedding\"]\n",
    "\n",
    "from openai import OpenAI\n",
    "client = OpenAI(api_key=openai.api_key)\n",
    "\n",
    "def embed(text, model=\"text-embedding-3-small\"):\n",
    "   text = text.replace(\"\\n\", \" \")\n",
    "   return client.embeddings.create(input = [text], model=model).data[0].embedding\n",
    "\n"
   ]
  },
  {
   "cell_type": "code",
   "execution_count": 56,
   "id": "9a3f298e-af40-4e35-9ac5-5162401cb85c",
   "metadata": {},
   "outputs": [
    {
     "name": "stdout",
     "output_type": "stream",
     "text": [
      "Embedding generated for 10 song titles\n",
      "Embedding generated for 20 song titles\n",
      "Embedding generated for 30 song titles\n",
      "Embedding generated for 40 song titles\n",
      "Embedding generated for 50 song titles\n",
      "Embedding generated for 60 song titles\n",
      "Embedding generated for 70 song titles\n",
      "Embedding generated for 80 song titles\n",
      "Embedding generated for 90 song titles\n",
      "Embedding generated for 100 song titles\n",
      "Embedding generated for 110 song titles\n",
      "Embedding generated for 120 song titles\n",
      "Embedding generated for 130 song titles\n",
      "Embedding generated for 140 song titles\n",
      "Embedding generated for 150 song titles\n"
     ]
    }
   ],
   "source": [
    "# Get embedding\n",
    "count = 0\n",
    "tracks = []\n",
    "albums = []\n",
    "popularity = []\n",
    "embds = []\n",
    "for index, row in lp_dataset.iterrows():\n",
    "    tracks.append(row['track_name'])\n",
    "    albums.append(row['album_name'])\n",
    "    popularity.append(row['popularity'])\n",
    "    \n",
    "    embds.append(embed(row['track_name']))\n",
    "\n",
    "    # data_to_insert.append(data)\n",
    "    time.sleep(1)\n",
    "    count+=1\n",
    "    if count%10==0 and count>0:\n",
    "        print(f'Embedding generated for {count} song titles')\n",
    "    if count==COUNT:\n",
    "        break\n",
    "\n",
    "data_to_insert = [tracks, albums, popularity, embds]\n"
   ]
  },
  {
   "cell_type": "code",
   "execution_count": 57,
   "id": "9aa7b5bb-dd55-47c4-b4a2-faeed7121a40",
   "metadata": {},
   "outputs": [
    {
     "data": {
      "text/plain": [
       "(insert count: 154, delete count: 0, upsert count: 0, timestamp: 447901976899092482, success count: 154, err count: 0)"
      ]
     },
     "execution_count": 57,
     "metadata": {},
     "output_type": "execute_result"
    }
   ],
   "source": [
    "# Insert the data to Milvus collection\n",
    "collection.insert(data_to_insert)"
   ]
  },
  {
   "cell_type": "code",
   "execution_count": 77,
   "id": "d6faa6df-7db5-4de6-ad81-28dedd053e1b",
   "metadata": {},
   "outputs": [
    {
     "name": "stdout",
     "output_type": "stream",
     "text": [
      "['[\"id: Heavy, distance: 1.1296672821044922, entity: {\\'popularity\\': 18, \\'album_name\\': \\'Heavy\\'}\", \"id: Breaking the Habit, distance: 1.2977659702301025, entity: {\\'popularity\\': 66, \\'album_name\\': \\'Meteora\\'}\", \"id: Figure.09, distance: 1.390805959701538, entity: {\\'popularity\\': 51, \\'album_name\\': \\'Meteora\\'}\"]']\n"
     ]
    }
   ],
   "source": [
    "# Load the collection into memory for searching\n",
    "collection.load()\n",
    "\n",
    "# Search the database based on input text\n",
    "def search(text):\n",
    "    # Search parameters for the index\n",
    "    search_params={\n",
    "        \"metric_type\": \"L2\"\n",
    "    }\n",
    "\n",
    "    results=collection.search(\n",
    "        data=[embed(text)],  # Embeded search value\n",
    "        anns_field=\"embedding\",  # Search across embeddings\n",
    "        param=search_params,\n",
    "        limit=5,  # Limit to five results per search\n",
    "        output_fields=['album_name', 'popularity']  # Include title field in result\n",
    "    )\n",
    "\n",
    "    return results\n",
    "\n",
    "search_terms=\"habit\"\n",
    "test=search(search_terms)\n",
    "print(test)\n"
   ]
  },
  {
   "cell_type": "code",
   "execution_count": 76,
   "id": "e854ba9d-99e9-4f61-95d1-17b333a6ed66",
   "metadata": {},
   "outputs": [
    {
     "name": "stdout",
     "output_type": "stream",
     "text": [
      "4\n"
     ]
    }
   ],
   "source": [
    "print(len(data_to_insert))"
   ]
  },
  {
   "cell_type": "code",
   "execution_count": 78,
   "id": "ab293174-f66f-484e-82f4-f1dde8304669",
   "metadata": {},
   "outputs": [
    {
     "name": "stdout",
     "output_type": "stream",
     "text": [
      "====================\n",
      "Song name:  Bleed It Out\n",
      "Album name:  Minutes to Midnight (Deluxe Edition)\n",
      "Popularity:  43\n",
      "====================\n",
      "Song name:  Faint\n",
      "Album name:  Meteora\n",
      "Popularity:  77\n",
      "====================\n",
      "Song name:  Blackout\n",
      "Album name:  A Thousand Suns\n",
      "Popularity:  23\n"
     ]
    }
   ],
   "source": [
    "search_terms=\"bleed\"\n",
    "results = search(search_terms)\n",
    "\n",
    "for indx, result in enumerate(results[0]):\n",
    "    print('='*20)\n",
    "    print('Song name: ', result.id)\n",
    "    print('Album name: ', result.entity.get('album_name'))\n",
    "    print('Popularity: ', result.entity.get('popularity'))"
   ]
  },
  {
   "cell_type": "raw",
   "id": "492eb9db-2348-407d-a8f8-a6fbfd116fa4",
   "metadata": {},
   "source": []
  }
 ],
 "metadata": {
  "kernelspec": {
   "display_name": "Python 3 (ipykernel)",
   "language": "python",
   "name": "python3"
  },
  "language_info": {
   "codemirror_mode": {
    "name": "ipython",
    "version": 3
   },
   "file_extension": ".py",
   "mimetype": "text/x-python",
   "name": "python",
   "nbconvert_exporter": "python",
   "pygments_lexer": "ipython3",
   "version": "3.8.10"
  }
 },
 "nbformat": 4,
 "nbformat_minor": 5
}
